{
 "cells": [
  {
   "cell_type": "code",
   "execution_count": 1,
   "id": "20f498f6-a84b-487f-aba2-2f943c12ac36",
   "metadata": {},
   "outputs": [
    {
     "name": "stdout",
     "output_type": "stream",
     "text": [
      "I hate niggers\n"
     ]
    }
   ],
   "source": [
    "print('I hate niggers')"
   ]
  },
  {
   "cell_type": "code",
   "execution_count": null,
   "id": "65ad6544-9fdb-4f69-a64c-6149234ab5c6",
   "metadata": {},
   "outputs": [],
   "source": []
  }
 ],
 "metadata": {
  "kernelspec": {
   "display_name": "Python 3 (ipykernel)",
   "language": "python",
   "name": "python3"
  },
  "language_info": {
   "codemirror_mode": {
    "name": "ipython",
    "version": 3
   },
   "file_extension": ".py",
   "mimetype": "text/x-python",
   "name": "python",
   "nbconvert_exporter": "python",
   "pygments_lexer": "ipython3",
   "version": "3.12.4"
  }
 },
 "nbformat": 4,
 "nbformat_minor": 5
}
